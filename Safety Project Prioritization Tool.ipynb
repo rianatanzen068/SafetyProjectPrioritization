{
 "cells": [
  {
   "cell_type": "markdown",
   "metadata": {},
   "source": [
    "## Necessary packages are pandas and numpy"
   ]
  },
  {
   "cell_type": "code",
   "execution_count": null,
   "metadata": {},
   "outputs": [],
   "source": [
    "#Cell 1\n",
    "\n",
    "import pandas as pd\n",
    "import numpy as np"
   ]
  },
  {
   "cell_type": "markdown",
   "metadata": {},
   "source": [
    "## Roadway EEC"
   ]
  },
  {
   "cell_type": "code",
   "execution_count": null,
   "metadata": {
    "scrolled": false
   },
   "outputs": [],
   "source": [
    "#Cell 2\n",
    "#Importing the CSV where the projects have been spatially joined with the roadway EEC as a dataframe\n",
    "\n",
    "\n",
    "Roadway_EEC = pd.read_csv (\"Roadway_EEC.csv\", encoding =\"latin-1\")\n",
    "Roadway_EEC.head ()"
   ]
  },
  {
   "cell_type": "code",
   "execution_count": null,
   "metadata": {},
   "outputs": [],
   "source": [
    "#Cell 3\n",
    "#Adding a new column, Length. Segment Leghth = END_MP - BEGIN_MP\n",
    "\n",
    "Roadway_EEC [\"LENGTH\"]=Roadway_EEC [\"END_MP\"]-Roadway_EEC[\"BEGIN_MP\"]\n",
    "Roadway_EEC.head (2)"
   ]
  },
  {
   "cell_type": "code",
   "execution_count": null,
   "metadata": {},
   "outputs": [],
   "source": [
    "#Cell 4\n",
    "\n",
    "#If the beginning milepoint is in the middle of a segment, it will get \"S\"\n",
    "#If the ending milepoint is in the middle of a segment, it will get \"E\"\n",
    "#If the beginning and ending mileipoint both fall in between a segment, it will get \"M\"\n",
    "#Otherwise it will get \"0\"\n",
    "\n",
    "\n",
    "def start_end(x):\n",
    "    if x.BEGINNINGMILE>x.BEGIN_MP and x.ENDINGMILE <x.END_MP:\n",
    "        return \"M\"\n",
    "    elif x.BEGINNINGMILE>=x.BEGIN_MP and x.BEGINNINGMILE<=x.END_MP:\n",
    "        return \"S\"\n",
    "    elif x.ENDINGMILE>=x.BEGIN_MP and x.ENDINGMILE<=x.END_MP:\n",
    "        return \"E\"\n",
    "    else:\n",
    "        return \"O\""
   ]
  },
  {
   "cell_type": "code",
   "execution_count": null,
   "metadata": {},
   "outputs": [],
   "source": [
    "#Cell 5\n",
    "#Creating new column for \"S\", \"E\", \"M\" and \"O\"\n",
    "\n",
    "Roadway_EEC['StartEnd']=Roadway_EEC.apply (start_end, axis = 1)\n",
    "Roadway_EEC.head ()"
   ]
  },
  {
   "cell_type": "code",
   "execution_count": null,
   "metadata": {},
   "outputs": [],
   "source": [
    "#Cell 6\n",
    "\n",
    "#Calculating the new length for which the EEC is needed.\n",
    "#\"S\">> new_length = END_MP of segment - Beginning milepoint of project\n",
    "#\"E\">> new_length = Ending milepoint of project - BEGIN_MP of the segment\n",
    "# \"M\" >> new_length = Ending milepoint of project - Beginning milepoint of project\n",
    "# \"O\">> new_length = 0\n",
    "\n",
    "\n",
    "def new_length (x):\n",
    "    if x.StartEnd==\"S\":\n",
    "        A = x.END_MP - x.BEGINNINGMILE\n",
    "        return A\n",
    "    elif x.StartEnd==\"E\":\n",
    "        B = x.ENDINGMILE - x.BEGIN_MP\n",
    "        return B\n",
    "    elif x.StartEnd==\"M\":\n",
    "        C = x.ENDINGMILE - x.BEGINNINGMILE\n",
    "        return C\n",
    "    else:\n",
    "        return 0"
   ]
  },
  {
   "cell_type": "code",
   "execution_count": null,
   "metadata": {},
   "outputs": [],
   "source": [
    "#Cell 7\n",
    "#Adding column for new_length\n",
    "\n",
    "\n",
    "Roadway_EEC['NewLength']=Roadway_EEC.apply (new_length, axis = 1)\n",
    "Roadway_EEC.head ()"
   ]
  },
  {
   "cell_type": "code",
   "execution_count": null,
   "metadata": {},
   "outputs": [],
   "source": [
    "# Cell 8\n",
    "\n",
    "#Adding a new column for weighted EEC\n",
    "# Calculating EEC for the new_length. Weighted EEC = (new_length/length of the segment)*EEC of the segment\n",
    "\n",
    "\n",
    "Roadway_EEC [\"Weighted_EEC\"] = (Roadway_EEC[\"NewLength\"]/Roadway_EEC[\"LENGTH\"]) * Roadway_EEC [\"Road_EEC\"]\n",
    "Roadway_EEC.head ()"
   ]
  },
  {
   "cell_type": "code",
   "execution_count": null,
   "metadata": {},
   "outputs": [],
   "source": [
    "# Cell 9\n",
    "# A new list of EEC with existing EEC and Weighted EEC\n",
    "\n",
    "def new_EEC (x):\n",
    "    if x.Weighted_EEC ==0:\n",
    "        C = x.Road_EEC\n",
    "        return C\n",
    "    else:\n",
    "        D = x.Weighted_EEC\n",
    "        return D"
   ]
  },
  {
   "cell_type": "code",
   "execution_count": null,
   "metadata": {},
   "outputs": [],
   "source": [
    "# Cell 10\n",
    "#New Column for Existing and Weighted EEC\n",
    "\n",
    "Roadway_EEC [\"NEW_EEC\"] = Roadway_EEC.apply (new_EEC, axis = 1)\n",
    "Roadway_EEC.head ()"
   ]
  },
  {
   "cell_type": "code",
   "execution_count": null,
   "metadata": {},
   "outputs": [],
   "source": [
    "#Cell 11\n",
    "#Taking the summation of segment EECs for each project\n",
    "#Project_No is unique for every project\n",
    "\n",
    "Roadway_EEC_new = Roadway_EEC['NEW_EEC'].groupby(Roadway_EEC['Project_No']).sum ().to_frame(name='Roadway_EEC')\n",
    "Roadway_EEC_new.head ()"
   ]
  },
  {
   "cell_type": "code",
   "execution_count": null,
   "metadata": {},
   "outputs": [],
   "source": [
    "#Cell 12\n",
    "Roadway_EEC_new['Roadway_EEC'] = Roadway_EEC_new['Roadway_EEC'].replace(np.nan, 0)\n",
    "Roadway_EEC_new.head ()"
   ]
  },
  {
   "cell_type": "markdown",
   "metadata": {},
   "source": [
    "## Intersection EEC"
   ]
  },
  {
   "cell_type": "code",
   "execution_count": null,
   "metadata": {},
   "outputs": [],
   "source": [
    "#Cell 13\n",
    "#Importing the spatially joined Intersection database\n",
    "\n",
    "Intersection_EEC = pd.read_csv (\"Intersection_EEC.csv\", encoding =\"latin-1\")\n",
    "Intersection_EEC.head ()"
   ]
  },
  {
   "cell_type": "code",
   "execution_count": null,
   "metadata": {},
   "outputs": [],
   "source": [
    "#Cell 14\n",
    "#Taking the summation of Intersection EECs for each project\n",
    "Intersection_EEC_new = Intersection_EEC['Int_EEC'].groupby(Intersection_EEC['Project_No']).sum ().to_frame(name='Intersection_EEC')\n",
    "Intersection_EEC_new['Intersection_EEC'] = Intersection_EEC_new['Intersection_EEC'].replace(np.nan, 0)\n",
    "Intersection_EEC_new.head ()"
   ]
  },
  {
   "cell_type": "code",
   "execution_count": null,
   "metadata": {
    "scrolled": true
   },
   "outputs": [],
   "source": [
    "# #Cell 15\n",
    "# #Merging the Intersection EEC database with the Roadway EEC database\n",
    "\n",
    "# Road_Int_EEC = pd.merge (Intersection_EEC_new,Roadway_EEC_new,left_on = \"Project_No\",right_on = \"Project_No\", how = \"outer\")\n",
    "# Road_Int_EEC.head ()"
   ]
  },
  {
   "cell_type": "markdown",
   "metadata": {},
   "source": [
    "## Ramp EEC"
   ]
  },
  {
   "cell_type": "code",
   "execution_count": null,
   "metadata": {},
   "outputs": [],
   "source": [
    "#Cell 15\n",
    "#Importing the spatially joined Ramp database\n",
    "\n",
    "Ramp_EEC = pd.read_csv (\"Ramp_EEC.csv\", encoding =\"latin-1\")\n",
    "Ramp_EEC.head ()"
   ]
  },
  {
   "cell_type": "code",
   "execution_count": null,
   "metadata": {},
   "outputs": [],
   "source": [
    "#Cell 16\n",
    "#Taking the summation of Ramp EECs for each project\n",
    "Ramp_EEC_new = Ramp_EEC['Ramp_EEC'].groupby(Ramp_EEC['Project_No']).sum ().to_frame(name='Ramp_EEC')\n",
    "Ramp_EEC_new['Ramp_EEC'] = Ramp_EEC_new['Ramp_EEC'].replace(np.nan, 0)\n",
    "Ramp_EEC_new.head ()"
   ]
  },
  {
   "cell_type": "markdown",
   "metadata": {},
   "source": [
    "## Merging Projects, Roadway_EEC, Intersection_EEC and Ramp_EEC database"
   ]
  },
  {
   "cell_type": "code",
   "execution_count": null,
   "metadata": {},
   "outputs": [],
   "source": [
    "#Cell 17\n",
    "#Importing the file with project details.\n",
    "\n",
    "Projects = pd.read_csv (\"Projects.csv\", encoding =\"latin-1\")\n",
    "Projects.head ()"
   ]
  },
  {
   "cell_type": "code",
   "execution_count": null,
   "metadata": {},
   "outputs": [],
   "source": [
    "#Cell 18\n",
    "#Merge 1: Projects and Roadway_EEC\n",
    "\n",
    "\n",
    "Merge1 = pd.merge (Projects,Roadway_EEC_new,left_on = \"Project_No\",right_on = \"Project_No\", how = \"outer\")\n",
    "Merge1.head ()"
   ]
  },
  {
   "cell_type": "code",
   "execution_count": null,
   "metadata": {},
   "outputs": [],
   "source": [
    "#Cell 19\n",
    "#Merge 2: Merge1 and Intersection EEC\n",
    "\n",
    "\n",
    "Merge2 = pd.merge (Merge1,Intersection_EEC_new,left_on = \"Project_No\",right_on = \"Project_No\", how = \"outer\")\n",
    "Merge2.head ()"
   ]
  },
  {
   "cell_type": "code",
   "execution_count": null,
   "metadata": {},
   "outputs": [],
   "source": [
    "#Cell 20\n",
    "#Merge 2: Merge1 and Intersection EEC\n",
    "\n",
    "\n",
    "Merge3 = pd.merge (Merge2,Ramp_EEC_new,left_on = \"Project_No\",right_on = \"Project_No\", how = \"outer\")\n",
    "Merge3 = Merge3.replace(np.nan, 0)\n",
    "Merge3.head ()"
   ]
  },
  {
   "cell_type": "code",
   "execution_count": null,
   "metadata": {},
   "outputs": [],
   "source": [
    "#Cell 21\n",
    "#Total EEC of a project =  Roadway EEC + Intersection EEC + Ramp_EEC\n",
    "\n",
    "\n",
    "Merge3 [\"Final_EEC\"] = Merge3 [\"Intersection_EEC\"] + Merge3 [\"Roadway_EEC\"] + Merge3 [\"Ramp_EEC\"]\n",
    "Merge3.head ()"
   ]
  },
  {
   "cell_type": "markdown",
   "metadata": {},
   "source": [
    "## Sorting and Ranking"
   ]
  },
  {
   "cell_type": "code",
   "execution_count": null,
   "metadata": {},
   "outputs": [],
   "source": [
    "#Cell 22\n",
    "#Sorting the EECs from highest to lowest\n",
    "\n",
    "FINAL_EEC_sorted = Merge3.sort_values(by= \"Final_EEC\", ascending=False)\n",
    "FINAL_EEC_sorted.head ()"
   ]
  },
  {
   "cell_type": "code",
   "execution_count": null,
   "metadata": {},
   "outputs": [],
   "source": [
    "#Cell 23\n",
    "#Adding Rank\n",
    "\n",
    "FINAL_EEC_sorted[\"Rank\"] = FINAL_EEC_sorted[\"Final_EEC\"].rank(ascending=False)\n",
    "FINAL_EEC_sorted.head ()"
   ]
  },
  {
   "cell_type": "code",
   "execution_count": null,
   "metadata": {},
   "outputs": [],
   "source": [
    "# Cell 24\n",
    "FINAL_EEC_sorted.to_csv (\"Final EEC List.csv\")"
   ]
  },
  {
   "cell_type": "markdown",
   "metadata": {},
   "source": [
    "## Additional Analysis\n",
    "### Summary Statistics"
   ]
  },
  {
   "cell_type": "code",
   "execution_count": null,
   "metadata": {},
   "outputs": [],
   "source": [
    "#Cell 25\n",
    "FINAL_EEC_sorted[\"Final_EEC\"].describe ()"
   ]
  },
  {
   "cell_type": "markdown",
   "metadata": {},
   "source": [
    "### Sorting by sign of EEC"
   ]
  },
  {
   "cell_type": "code",
   "execution_count": null,
   "metadata": {},
   "outputs": [],
   "source": [
    "#Cell 26\n",
    "def SIGN (x):\n",
    "    if x.Final_EEC >0:\n",
    "        return \"P\"\n",
    "    elif x.Final_EEC <0:\n",
    "        return \"N\"\n",
    "    else:\n",
    "        return \"0\""
   ]
  },
  {
   "cell_type": "code",
   "execution_count": null,
   "metadata": {},
   "outputs": [],
   "source": [
    "#Cell 27\n",
    "FINAL_EEC_sorted [\"Sign\"] = FINAL_EEC_sorted.apply (SIGN, axis = 1)\n",
    "FINAL_EEC_sorted.head ()"
   ]
  },
  {
   "cell_type": "code",
   "execution_count": null,
   "metadata": {},
   "outputs": [],
   "source": [
    "#Cell 28\n",
    "FINAL_EEC_sorted[\"Sign\"].value_counts ()\n"
   ]
  }
 ],
 "metadata": {
  "kernelspec": {
   "display_name": "Python 3",
   "language": "python",
   "name": "python3"
  },
  "language_info": {
   "codemirror_mode": {
    "name": "ipython",
    "version": 3
   },
   "file_extension": ".py",
   "mimetype": "text/x-python",
   "name": "python",
   "nbconvert_exporter": "python",
   "pygments_lexer": "ipython3",
   "version": "3.7.3"
  }
 },
 "nbformat": 4,
 "nbformat_minor": 2
}
